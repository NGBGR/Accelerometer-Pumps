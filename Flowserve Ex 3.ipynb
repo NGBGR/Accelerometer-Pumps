{
 "cells": [
  {
   "cell_type": "code",
   "execution_count": 1,
   "metadata": {
    "collapsed": true
   },
   "outputs": [],
   "source": [
    "#importing all necessary libraries\n",
    "\n",
    "import numpy as np\n",
    "import pandas as pd\n",
    "import seaborn as sns\n",
    "import matplotlib.pyplot as plt\n",
    "\n",
    "from sklearn import linear_model\n",
    "from sklearn.decomposition import PCA\n",
    "from sklearn.linear_model import LogisticRegression\n",
    "from sklearn.model_selection import train_test_split\n",
    "\n",
    "from sklearn.metrics import roc_curve, auc\n",
    "from sklearn.metrics import classification_report, confusion_matrix\n",
    "from sklearn.preprocessing import label_binarize\n",
    "from itertools import cycle\n",
    "\n",
    "%matplotlib inline"
   ]
  },
  {
   "cell_type": "code",
   "execution_count": 2,
   "metadata": {
    "collapsed": true
   },
   "outputs": [],
   "source": [
    "#reading in X_matrix.txt\n",
    "\n",
    "X = pd.read_csv('X_matrix.txt', sep=\",\", header=None) "
   ]
  },
  {
   "cell_type": "markdown",
   "metadata": {},
   "source": [
    "Performing Basic EDA on X_matrix.txt"
   ]
  },
  {
   "cell_type": "code",
   "execution_count": 3,
   "metadata": {},
   "outputs": [
    {
     "data": {
      "text/html": [
       "<div>\n",
       "<style scoped>\n",
       "    .dataframe tbody tr th:only-of-type {\n",
       "        vertical-align: middle;\n",
       "    }\n",
       "\n",
       "    .dataframe tbody tr th {\n",
       "        vertical-align: top;\n",
       "    }\n",
       "\n",
       "    .dataframe thead th {\n",
       "        text-align: right;\n",
       "    }\n",
       "</style>\n",
       "<table border=\"1\" class=\"dataframe\">\n",
       "  <thead>\n",
       "    <tr style=\"text-align: right;\">\n",
       "      <th></th>\n",
       "      <th>0</th>\n",
       "      <th>1</th>\n",
       "      <th>2</th>\n",
       "      <th>3</th>\n",
       "      <th>4</th>\n",
       "      <th>5</th>\n",
       "      <th>6</th>\n",
       "      <th>7</th>\n",
       "      <th>8</th>\n",
       "      <th>9</th>\n",
       "      <th>...</th>\n",
       "      <th>2996</th>\n",
       "      <th>2997</th>\n",
       "      <th>2998</th>\n",
       "      <th>2999</th>\n",
       "      <th>3000</th>\n",
       "      <th>3001</th>\n",
       "      <th>3002</th>\n",
       "      <th>3003</th>\n",
       "      <th>3004</th>\n",
       "      <th>3005</th>\n",
       "    </tr>\n",
       "  </thead>\n",
       "  <tbody>\n",
       "    <tr>\n",
       "      <th>0</th>\n",
       "      <td>0.079626</td>\n",
       "      <td>0.031096</td>\n",
       "      <td>0.57758</td>\n",
       "      <td>0.079597</td>\n",
       "      <td>0.030656</td>\n",
       "      <td>0.37493</td>\n",
       "      <td>0.000057</td>\n",
       "      <td>0.000019</td>\n",
       "      <td>0.000101</td>\n",
       "      <td>0.000026</td>\n",
       "      <td>...</td>\n",
       "      <td>0.001328</td>\n",
       "      <td>0.000374</td>\n",
       "      <td>0.000717</td>\n",
       "      <td>0.000498</td>\n",
       "      <td>0.000212</td>\n",
       "      <td>0.001195</td>\n",
       "      <td>0.000976</td>\n",
       "      <td>0.001421</td>\n",
       "      <td>0.000764</td>\n",
       "      <td>0.001919</td>\n",
       "    </tr>\n",
       "    <tr>\n",
       "      <th>1</th>\n",
       "      <td>0.082924</td>\n",
       "      <td>0.031115</td>\n",
       "      <td>0.59131</td>\n",
       "      <td>0.082895</td>\n",
       "      <td>0.031045</td>\n",
       "      <td>0.57524</td>\n",
       "      <td>0.000227</td>\n",
       "      <td>0.000266</td>\n",
       "      <td>0.000379</td>\n",
       "      <td>0.000200</td>\n",
       "      <td>...</td>\n",
       "      <td>0.001677</td>\n",
       "      <td>0.000611</td>\n",
       "      <td>0.000394</td>\n",
       "      <td>0.000783</td>\n",
       "      <td>0.001300</td>\n",
       "      <td>0.000668</td>\n",
       "      <td>0.001501</td>\n",
       "      <td>0.001044</td>\n",
       "      <td>0.000389</td>\n",
       "      <td>0.001699</td>\n",
       "    </tr>\n",
       "    <tr>\n",
       "      <th>2</th>\n",
       "      <td>0.087933</td>\n",
       "      <td>0.031503</td>\n",
       "      <td>0.88682</td>\n",
       "      <td>0.087907</td>\n",
       "      <td>0.031370</td>\n",
       "      <td>0.86381</td>\n",
       "      <td>0.000048</td>\n",
       "      <td>0.000183</td>\n",
       "      <td>0.000175</td>\n",
       "      <td>0.000041</td>\n",
       "      <td>...</td>\n",
       "      <td>0.000900</td>\n",
       "      <td>0.000646</td>\n",
       "      <td>0.000824</td>\n",
       "      <td>0.000208</td>\n",
       "      <td>0.000489</td>\n",
       "      <td>0.000385</td>\n",
       "      <td>0.001275</td>\n",
       "      <td>0.000582</td>\n",
       "      <td>0.000665</td>\n",
       "      <td>0.002105</td>\n",
       "    </tr>\n",
       "    <tr>\n",
       "      <th>3</th>\n",
       "      <td>0.079373</td>\n",
       "      <td>0.031118</td>\n",
       "      <td>0.49833</td>\n",
       "      <td>0.079344</td>\n",
       "      <td>0.031020</td>\n",
       "      <td>0.49413</td>\n",
       "      <td>0.000084</td>\n",
       "      <td>0.000077</td>\n",
       "      <td>0.000140</td>\n",
       "      <td>0.000056</td>\n",
       "      <td>...</td>\n",
       "      <td>0.001278</td>\n",
       "      <td>0.000795</td>\n",
       "      <td>0.001149</td>\n",
       "      <td>0.000403</td>\n",
       "      <td>0.000238</td>\n",
       "      <td>0.000735</td>\n",
       "      <td>0.001175</td>\n",
       "      <td>0.001327</td>\n",
       "      <td>0.000448</td>\n",
       "      <td>0.001359</td>\n",
       "    </tr>\n",
       "    <tr>\n",
       "      <th>4</th>\n",
       "      <td>0.084620</td>\n",
       "      <td>0.031815</td>\n",
       "      <td>0.82388</td>\n",
       "      <td>0.084594</td>\n",
       "      <td>0.031625</td>\n",
       "      <td>0.82211</td>\n",
       "      <td>0.000016</td>\n",
       "      <td>0.000122</td>\n",
       "      <td>0.000034</td>\n",
       "      <td>0.000148</td>\n",
       "      <td>...</td>\n",
       "      <td>0.001030</td>\n",
       "      <td>0.000681</td>\n",
       "      <td>0.000135</td>\n",
       "      <td>0.000531</td>\n",
       "      <td>0.000544</td>\n",
       "      <td>0.000473</td>\n",
       "      <td>0.001614</td>\n",
       "      <td>0.001167</td>\n",
       "      <td>0.001174</td>\n",
       "      <td>0.002157</td>\n",
       "    </tr>\n",
       "  </tbody>\n",
       "</table>\n",
       "<p>5 rows × 3006 columns</p>\n",
       "</div>"
      ],
      "text/plain": [
       "       0         1        2         3         4        5         6     \\\n",
       "0  0.079626  0.031096  0.57758  0.079597  0.030656  0.37493  0.000057   \n",
       "1  0.082924  0.031115  0.59131  0.082895  0.031045  0.57524  0.000227   \n",
       "2  0.087933  0.031503  0.88682  0.087907  0.031370  0.86381  0.000048   \n",
       "3  0.079373  0.031118  0.49833  0.079344  0.031020  0.49413  0.000084   \n",
       "4  0.084620  0.031815  0.82388  0.084594  0.031625  0.82211  0.000016   \n",
       "\n",
       "       7         8         9     ...      2996      2997      2998      2999  \\\n",
       "0  0.000019  0.000101  0.000026  ...  0.001328  0.000374  0.000717  0.000498   \n",
       "1  0.000266  0.000379  0.000200  ...  0.001677  0.000611  0.000394  0.000783   \n",
       "2  0.000183  0.000175  0.000041  ...  0.000900  0.000646  0.000824  0.000208   \n",
       "3  0.000077  0.000140  0.000056  ...  0.001278  0.000795  0.001149  0.000403   \n",
       "4  0.000122  0.000034  0.000148  ...  0.001030  0.000681  0.000135  0.000531   \n",
       "\n",
       "       3000      3001      3002      3003      3004      3005  \n",
       "0  0.000212  0.001195  0.000976  0.001421  0.000764  0.001919  \n",
       "1  0.001300  0.000668  0.001501  0.001044  0.000389  0.001699  \n",
       "2  0.000489  0.000385  0.001275  0.000582  0.000665  0.002105  \n",
       "3  0.000238  0.000735  0.001175  0.001327  0.000448  0.001359  \n",
       "4  0.000544  0.000473  0.001614  0.001167  0.001174  0.002157  \n",
       "\n",
       "[5 rows x 3006 columns]"
      ]
     },
     "execution_count": 3,
     "metadata": {},
     "output_type": "execute_result"
    }
   ],
   "source": [
    "X.head()"
   ]
  },
  {
   "cell_type": "code",
   "execution_count": 4,
   "metadata": {},
   "outputs": [
    {
     "data": {
      "text/plain": [
       "0"
      ]
     },
     "execution_count": 4,
     "metadata": {},
     "output_type": "execute_result"
    }
   ],
   "source": [
    "(X<0).sum().sum()"
   ]
  },
  {
   "cell_type": "code",
   "execution_count": 5,
   "metadata": {},
   "outputs": [
    {
     "data": {
      "text/plain": [
       "(840, 3006)"
      ]
     },
     "execution_count": 5,
     "metadata": {},
     "output_type": "execute_result"
    }
   ],
   "source": [
    "X.shape"
   ]
  },
  {
   "cell_type": "code",
   "execution_count": 6,
   "metadata": {},
   "outputs": [
    {
     "name": "stdout",
     "output_type": "stream",
     "text": [
      "<class 'pandas.core.frame.DataFrame'>\n",
      "RangeIndex: 840 entries, 0 to 839\n",
      "Columns: 3006 entries, 0 to 3005\n",
      "dtypes: float64(3006)\n",
      "memory usage: 19.3 MB\n"
     ]
    }
   ],
   "source": [
    "X.info()"
   ]
  },
  {
   "cell_type": "code",
   "execution_count": 7,
   "metadata": {},
   "outputs": [
    {
     "data": {
      "text/plain": [
       "0"
      ]
     },
     "execution_count": 7,
     "metadata": {},
     "output_type": "execute_result"
    }
   ],
   "source": [
    "X.isnull().sum().sum()"
   ]
  },
  {
   "cell_type": "code",
   "execution_count": 8,
   "metadata": {
    "collapsed": true
   },
   "outputs": [],
   "source": [
    "#reading in y_matrix.txt\n",
    "\n",
    "y = pd.read_csv('y_matrix.txt', sep=\",\", header=None)"
   ]
  },
  {
   "cell_type": "markdown",
   "metadata": {},
   "source": [
    "Performing Basic EDA on y_matrix.txt"
   ]
  },
  {
   "cell_type": "code",
   "execution_count": 9,
   "metadata": {},
   "outputs": [
    {
     "data": {
      "text/html": [
       "<div>\n",
       "<style scoped>\n",
       "    .dataframe tbody tr th:only-of-type {\n",
       "        vertical-align: middle;\n",
       "    }\n",
       "\n",
       "    .dataframe tbody tr th {\n",
       "        vertical-align: top;\n",
       "    }\n",
       "\n",
       "    .dataframe thead th {\n",
       "        text-align: right;\n",
       "    }\n",
       "</style>\n",
       "<table border=\"1\" class=\"dataframe\">\n",
       "  <thead>\n",
       "    <tr style=\"text-align: right;\">\n",
       "      <th></th>\n",
       "      <th>0</th>\n",
       "    </tr>\n",
       "  </thead>\n",
       "  <tbody>\n",
       "    <tr>\n",
       "      <th>0</th>\n",
       "      <td>1</td>\n",
       "    </tr>\n",
       "    <tr>\n",
       "      <th>1</th>\n",
       "      <td>1</td>\n",
       "    </tr>\n",
       "    <tr>\n",
       "      <th>2</th>\n",
       "      <td>1</td>\n",
       "    </tr>\n",
       "    <tr>\n",
       "      <th>3</th>\n",
       "      <td>1</td>\n",
       "    </tr>\n",
       "    <tr>\n",
       "      <th>4</th>\n",
       "      <td>1</td>\n",
       "    </tr>\n",
       "  </tbody>\n",
       "</table>\n",
       "</div>"
      ],
      "text/plain": [
       "   0\n",
       "0  1\n",
       "1  1\n",
       "2  1\n",
       "3  1\n",
       "4  1"
      ]
     },
     "execution_count": 9,
     "metadata": {},
     "output_type": "execute_result"
    }
   ],
   "source": [
    "y.head()"
   ]
  },
  {
   "cell_type": "code",
   "execution_count": 10,
   "metadata": {},
   "outputs": [
    {
     "data": {
      "text/plain": [
       "(840, 1)"
      ]
     },
     "execution_count": 10,
     "metadata": {},
     "output_type": "execute_result"
    }
   ],
   "source": [
    "y.shape"
   ]
  },
  {
   "cell_type": "code",
   "execution_count": 11,
   "metadata": {},
   "outputs": [
    {
     "name": "stdout",
     "output_type": "stream",
     "text": [
      "<class 'pandas.core.frame.DataFrame'>\n",
      "RangeIndex: 840 entries, 0 to 839\n",
      "Data columns (total 1 columns):\n",
      "0    840 non-null int64\n",
      "dtypes: int64(1)\n",
      "memory usage: 6.6 KB\n"
     ]
    }
   ],
   "source": [
    "y.info()"
   ]
  },
  {
   "cell_type": "code",
   "execution_count": 12,
   "metadata": {},
   "outputs": [
    {
     "data": {
      "text/plain": [
       "0    0\n",
       "dtype: int64"
      ]
     },
     "execution_count": 12,
     "metadata": {},
     "output_type": "execute_result"
    }
   ],
   "source": [
    "y.isnull().sum()"
   ]
  },
  {
   "cell_type": "code",
   "execution_count": 13,
   "metadata": {},
   "outputs": [
    {
     "data": {
      "text/plain": [
       "array([1, 2, 3, 4], dtype=int64)"
      ]
     },
     "execution_count": 13,
     "metadata": {},
     "output_type": "execute_result"
    }
   ],
   "source": [
    "y[0].unique()"
   ]
  },
  {
   "cell_type": "code",
   "execution_count": 14,
   "metadata": {
    "collapsed": true
   },
   "outputs": [],
   "source": [
    "#reading in X_matrix_test_1.txt\n",
    "\n",
    "Xt1 = pd.read_csv('X_matrix_test_1.txt', sep=\",\", header=None)"
   ]
  },
  {
   "cell_type": "markdown",
   "metadata": {},
   "source": [
    "Performing Basic EDA on X_matrix_test_1.txt"
   ]
  },
  {
   "cell_type": "code",
   "execution_count": 15,
   "metadata": {},
   "outputs": [
    {
     "data": {
      "text/html": [
       "<div>\n",
       "<style scoped>\n",
       "    .dataframe tbody tr th:only-of-type {\n",
       "        vertical-align: middle;\n",
       "    }\n",
       "\n",
       "    .dataframe tbody tr th {\n",
       "        vertical-align: top;\n",
       "    }\n",
       "\n",
       "    .dataframe thead th {\n",
       "        text-align: right;\n",
       "    }\n",
       "</style>\n",
       "<table border=\"1\" class=\"dataframe\">\n",
       "  <thead>\n",
       "    <tr style=\"text-align: right;\">\n",
       "      <th></th>\n",
       "      <th>0</th>\n",
       "      <th>1</th>\n",
       "      <th>2</th>\n",
       "      <th>3</th>\n",
       "      <th>4</th>\n",
       "      <th>5</th>\n",
       "      <th>6</th>\n",
       "      <th>7</th>\n",
       "      <th>8</th>\n",
       "      <th>9</th>\n",
       "      <th>...</th>\n",
       "      <th>2996</th>\n",
       "      <th>2997</th>\n",
       "      <th>2998</th>\n",
       "      <th>2999</th>\n",
       "      <th>3000</th>\n",
       "      <th>3001</th>\n",
       "      <th>3002</th>\n",
       "      <th>3003</th>\n",
       "      <th>3004</th>\n",
       "      <th>3005</th>\n",
       "    </tr>\n",
       "  </thead>\n",
       "  <tbody>\n",
       "    <tr>\n",
       "      <th>0</th>\n",
       "      <td>0.076220</td>\n",
       "      <td>0.031312</td>\n",
       "      <td>0.42298</td>\n",
       "      <td>0.076179</td>\n",
       "      <td>0.031242</td>\n",
       "      <td>0.33418</td>\n",
       "      <td>0.000292</td>\n",
       "      <td>0.000240</td>\n",
       "      <td>0.000290</td>\n",
       "      <td>0.000378</td>\n",
       "      <td>...</td>\n",
       "      <td>0.000713</td>\n",
       "      <td>0.000362</td>\n",
       "      <td>0.000383</td>\n",
       "      <td>0.000699</td>\n",
       "      <td>0.000613</td>\n",
       "      <td>0.001588</td>\n",
       "      <td>0.000890</td>\n",
       "      <td>0.001951</td>\n",
       "      <td>0.001576</td>\n",
       "      <td>0.001595</td>\n",
       "    </tr>\n",
       "    <tr>\n",
       "      <th>1</th>\n",
       "      <td>0.077883</td>\n",
       "      <td>0.031565</td>\n",
       "      <td>0.81852</td>\n",
       "      <td>0.077838</td>\n",
       "      <td>0.031282</td>\n",
       "      <td>0.48617</td>\n",
       "      <td>0.000065</td>\n",
       "      <td>0.000202</td>\n",
       "      <td>0.000130</td>\n",
       "      <td>0.000137</td>\n",
       "      <td>...</td>\n",
       "      <td>0.000930</td>\n",
       "      <td>0.000855</td>\n",
       "      <td>0.000551</td>\n",
       "      <td>0.000769</td>\n",
       "      <td>0.000356</td>\n",
       "      <td>0.001536</td>\n",
       "      <td>0.000576</td>\n",
       "      <td>0.001601</td>\n",
       "      <td>0.001343</td>\n",
       "      <td>0.001221</td>\n",
       "    </tr>\n",
       "    <tr>\n",
       "      <th>2</th>\n",
       "      <td>0.076857</td>\n",
       "      <td>0.031371</td>\n",
       "      <td>0.66444</td>\n",
       "      <td>0.076830</td>\n",
       "      <td>0.031354</td>\n",
       "      <td>0.46230</td>\n",
       "      <td>0.000677</td>\n",
       "      <td>0.000511</td>\n",
       "      <td>0.000667</td>\n",
       "      <td>0.000614</td>\n",
       "      <td>...</td>\n",
       "      <td>0.000182</td>\n",
       "      <td>0.000216</td>\n",
       "      <td>0.000502</td>\n",
       "      <td>0.000102</td>\n",
       "      <td>0.000615</td>\n",
       "      <td>0.001045</td>\n",
       "      <td>0.000965</td>\n",
       "      <td>0.001524</td>\n",
       "      <td>0.001153</td>\n",
       "      <td>0.001753</td>\n",
       "    </tr>\n",
       "    <tr>\n",
       "      <th>3</th>\n",
       "      <td>0.078766</td>\n",
       "      <td>0.031355</td>\n",
       "      <td>0.42712</td>\n",
       "      <td>0.078717</td>\n",
       "      <td>0.031040</td>\n",
       "      <td>0.40293</td>\n",
       "      <td>0.000476</td>\n",
       "      <td>0.000452</td>\n",
       "      <td>0.000466</td>\n",
       "      <td>0.000455</td>\n",
       "      <td>...</td>\n",
       "      <td>0.000528</td>\n",
       "      <td>0.000365</td>\n",
       "      <td>0.000746</td>\n",
       "      <td>0.000396</td>\n",
       "      <td>0.000829</td>\n",
       "      <td>0.002125</td>\n",
       "      <td>0.000296</td>\n",
       "      <td>0.001386</td>\n",
       "      <td>0.001835</td>\n",
       "      <td>0.001543</td>\n",
       "    </tr>\n",
       "    <tr>\n",
       "      <th>4</th>\n",
       "      <td>0.065696</td>\n",
       "      <td>0.032124</td>\n",
       "      <td>0.40324</td>\n",
       "      <td>0.065650</td>\n",
       "      <td>0.032095</td>\n",
       "      <td>0.40001</td>\n",
       "      <td>0.000333</td>\n",
       "      <td>0.000282</td>\n",
       "      <td>0.000135</td>\n",
       "      <td>0.000009</td>\n",
       "      <td>...</td>\n",
       "      <td>0.000735</td>\n",
       "      <td>0.000626</td>\n",
       "      <td>0.000926</td>\n",
       "      <td>0.000615</td>\n",
       "      <td>0.000900</td>\n",
       "      <td>0.001347</td>\n",
       "      <td>0.000529</td>\n",
       "      <td>0.001971</td>\n",
       "      <td>0.001638</td>\n",
       "      <td>0.000737</td>\n",
       "    </tr>\n",
       "  </tbody>\n",
       "</table>\n",
       "<p>5 rows × 3006 columns</p>\n",
       "</div>"
      ],
      "text/plain": [
       "       0         1        2         3         4        5         6     \\\n",
       "0  0.076220  0.031312  0.42298  0.076179  0.031242  0.33418  0.000292   \n",
       "1  0.077883  0.031565  0.81852  0.077838  0.031282  0.48617  0.000065   \n",
       "2  0.076857  0.031371  0.66444  0.076830  0.031354  0.46230  0.000677   \n",
       "3  0.078766  0.031355  0.42712  0.078717  0.031040  0.40293  0.000476   \n",
       "4  0.065696  0.032124  0.40324  0.065650  0.032095  0.40001  0.000333   \n",
       "\n",
       "       7         8         9     ...      2996      2997      2998      2999  \\\n",
       "0  0.000240  0.000290  0.000378  ...  0.000713  0.000362  0.000383  0.000699   \n",
       "1  0.000202  0.000130  0.000137  ...  0.000930  0.000855  0.000551  0.000769   \n",
       "2  0.000511  0.000667  0.000614  ...  0.000182  0.000216  0.000502  0.000102   \n",
       "3  0.000452  0.000466  0.000455  ...  0.000528  0.000365  0.000746  0.000396   \n",
       "4  0.000282  0.000135  0.000009  ...  0.000735  0.000626  0.000926  0.000615   \n",
       "\n",
       "       3000      3001      3002      3003      3004      3005  \n",
       "0  0.000613  0.001588  0.000890  0.001951  0.001576  0.001595  \n",
       "1  0.000356  0.001536  0.000576  0.001601  0.001343  0.001221  \n",
       "2  0.000615  0.001045  0.000965  0.001524  0.001153  0.001753  \n",
       "3  0.000829  0.002125  0.000296  0.001386  0.001835  0.001543  \n",
       "4  0.000900  0.001347  0.000529  0.001971  0.001638  0.000737  \n",
       "\n",
       "[5 rows x 3006 columns]"
      ]
     },
     "execution_count": 15,
     "metadata": {},
     "output_type": "execute_result"
    }
   ],
   "source": [
    "Xt1.head()"
   ]
  },
  {
   "cell_type": "code",
   "execution_count": 16,
   "metadata": {},
   "outputs": [
    {
     "data": {
      "text/plain": [
       "(240, 3006)"
      ]
     },
     "execution_count": 16,
     "metadata": {},
     "output_type": "execute_result"
    }
   ],
   "source": [
    "Xt1.shape"
   ]
  },
  {
   "cell_type": "code",
   "execution_count": 17,
   "metadata": {},
   "outputs": [
    {
     "name": "stdout",
     "output_type": "stream",
     "text": [
      "<class 'pandas.core.frame.DataFrame'>\n",
      "RangeIndex: 240 entries, 0 to 239\n",
      "Columns: 3006 entries, 0 to 3005\n",
      "dtypes: float64(3006)\n",
      "memory usage: 5.5 MB\n"
     ]
    }
   ],
   "source": [
    "Xt1.info()"
   ]
  },
  {
   "cell_type": "code",
   "execution_count": 18,
   "metadata": {},
   "outputs": [
    {
     "data": {
      "text/plain": [
       "0"
      ]
     },
     "execution_count": 18,
     "metadata": {},
     "output_type": "execute_result"
    }
   ],
   "source": [
    "(Xt1<0).sum().sum()"
   ]
  },
  {
   "cell_type": "code",
   "execution_count": 19,
   "metadata": {},
   "outputs": [
    {
     "data": {
      "text/plain": [
       "0"
      ]
     },
     "execution_count": 19,
     "metadata": {},
     "output_type": "execute_result"
    }
   ],
   "source": [
    "Xt1.isnull().sum().sum()"
   ]
  },
  {
   "cell_type": "code",
   "execution_count": 20,
   "metadata": {
    "collapsed": true
   },
   "outputs": [],
   "source": [
    "#reading in X_matrix_test_2.txt\n",
    "\n",
    "Xt2 = pd.read_csv('X_matrix_test_2.txt', sep=\",\", header=None)"
   ]
  },
  {
   "cell_type": "markdown",
   "metadata": {},
   "source": [
    "Performing Basic EDA on X_matrix_test_2"
   ]
  },
  {
   "cell_type": "code",
   "execution_count": 21,
   "metadata": {},
   "outputs": [
    {
     "data": {
      "text/html": [
       "<div>\n",
       "<style scoped>\n",
       "    .dataframe tbody tr th:only-of-type {\n",
       "        vertical-align: middle;\n",
       "    }\n",
       "\n",
       "    .dataframe tbody tr th {\n",
       "        vertical-align: top;\n",
       "    }\n",
       "\n",
       "    .dataframe thead th {\n",
       "        text-align: right;\n",
       "    }\n",
       "</style>\n",
       "<table border=\"1\" class=\"dataframe\">\n",
       "  <thead>\n",
       "    <tr style=\"text-align: right;\">\n",
       "      <th></th>\n",
       "      <th>0</th>\n",
       "      <th>1</th>\n",
       "      <th>2</th>\n",
       "      <th>3</th>\n",
       "      <th>4</th>\n",
       "      <th>5</th>\n",
       "      <th>6</th>\n",
       "      <th>7</th>\n",
       "      <th>8</th>\n",
       "      <th>9</th>\n",
       "      <th>...</th>\n",
       "      <th>2996</th>\n",
       "      <th>2997</th>\n",
       "      <th>2998</th>\n",
       "      <th>2999</th>\n",
       "      <th>3000</th>\n",
       "      <th>3001</th>\n",
       "      <th>3002</th>\n",
       "      <th>3003</th>\n",
       "      <th>3004</th>\n",
       "      <th>3005</th>\n",
       "    </tr>\n",
       "  </thead>\n",
       "  <tbody>\n",
       "    <tr>\n",
       "      <th>0</th>\n",
       "      <td>0.083963</td>\n",
       "      <td>0.031088</td>\n",
       "      <td>1.05810</td>\n",
       "      <td>0.083923</td>\n",
       "      <td>0.030901</td>\n",
       "      <td>1.00710</td>\n",
       "      <td>0.000255</td>\n",
       "      <td>0.000289</td>\n",
       "      <td>0.000066</td>\n",
       "      <td>0.000180</td>\n",
       "      <td>...</td>\n",
       "      <td>0.000098</td>\n",
       "      <td>0.000635</td>\n",
       "      <td>0.000670</td>\n",
       "      <td>0.000708</td>\n",
       "      <td>0.000977</td>\n",
       "      <td>0.000319</td>\n",
       "      <td>0.000385</td>\n",
       "      <td>0.001202</td>\n",
       "      <td>0.000440</td>\n",
       "      <td>0.001291</td>\n",
       "    </tr>\n",
       "    <tr>\n",
       "      <th>1</th>\n",
       "      <td>0.085258</td>\n",
       "      <td>0.031786</td>\n",
       "      <td>0.66821</td>\n",
       "      <td>0.085222</td>\n",
       "      <td>0.031681</td>\n",
       "      <td>0.66076</td>\n",
       "      <td>0.000213</td>\n",
       "      <td>0.000140</td>\n",
       "      <td>0.000074</td>\n",
       "      <td>0.000225</td>\n",
       "      <td>...</td>\n",
       "      <td>0.000481</td>\n",
       "      <td>0.000115</td>\n",
       "      <td>0.000222</td>\n",
       "      <td>0.000888</td>\n",
       "      <td>0.000202</td>\n",
       "      <td>0.000400</td>\n",
       "      <td>0.000648</td>\n",
       "      <td>0.000642</td>\n",
       "      <td>0.000618</td>\n",
       "      <td>0.000521</td>\n",
       "    </tr>\n",
       "    <tr>\n",
       "      <th>2</th>\n",
       "      <td>0.085543</td>\n",
       "      <td>0.031572</td>\n",
       "      <td>1.22010</td>\n",
       "      <td>0.085504</td>\n",
       "      <td>0.031417</td>\n",
       "      <td>1.17320</td>\n",
       "      <td>0.000365</td>\n",
       "      <td>0.000363</td>\n",
       "      <td>0.000388</td>\n",
       "      <td>0.000341</td>\n",
       "      <td>...</td>\n",
       "      <td>0.000448</td>\n",
       "      <td>0.000728</td>\n",
       "      <td>0.000630</td>\n",
       "      <td>0.000315</td>\n",
       "      <td>0.001347</td>\n",
       "      <td>0.001486</td>\n",
       "      <td>0.001280</td>\n",
       "      <td>0.000730</td>\n",
       "      <td>0.000391</td>\n",
       "      <td>0.001288</td>\n",
       "    </tr>\n",
       "    <tr>\n",
       "      <th>3</th>\n",
       "      <td>0.084739</td>\n",
       "      <td>0.031418</td>\n",
       "      <td>0.83699</td>\n",
       "      <td>0.084709</td>\n",
       "      <td>0.031402</td>\n",
       "      <td>0.74660</td>\n",
       "      <td>0.000482</td>\n",
       "      <td>0.000408</td>\n",
       "      <td>0.000412</td>\n",
       "      <td>0.000448</td>\n",
       "      <td>...</td>\n",
       "      <td>0.001066</td>\n",
       "      <td>0.000705</td>\n",
       "      <td>0.000831</td>\n",
       "      <td>0.000390</td>\n",
       "      <td>0.001110</td>\n",
       "      <td>0.000650</td>\n",
       "      <td>0.000417</td>\n",
       "      <td>0.000253</td>\n",
       "      <td>0.000715</td>\n",
       "      <td>0.000591</td>\n",
       "    </tr>\n",
       "    <tr>\n",
       "      <th>4</th>\n",
       "      <td>0.084089</td>\n",
       "      <td>0.031869</td>\n",
       "      <td>0.80974</td>\n",
       "      <td>0.084043</td>\n",
       "      <td>0.031711</td>\n",
       "      <td>0.77515</td>\n",
       "      <td>0.000197</td>\n",
       "      <td>0.000127</td>\n",
       "      <td>0.000076</td>\n",
       "      <td>0.000190</td>\n",
       "      <td>...</td>\n",
       "      <td>0.000452</td>\n",
       "      <td>0.000573</td>\n",
       "      <td>0.000320</td>\n",
       "      <td>0.000086</td>\n",
       "      <td>0.001230</td>\n",
       "      <td>0.001394</td>\n",
       "      <td>0.000757</td>\n",
       "      <td>0.000659</td>\n",
       "      <td>0.000400</td>\n",
       "      <td>0.000452</td>\n",
       "    </tr>\n",
       "  </tbody>\n",
       "</table>\n",
       "<p>5 rows × 3006 columns</p>\n",
       "</div>"
      ],
      "text/plain": [
       "       0         1        2         3         4        5         6     \\\n",
       "0  0.083963  0.031088  1.05810  0.083923  0.030901  1.00710  0.000255   \n",
       "1  0.085258  0.031786  0.66821  0.085222  0.031681  0.66076  0.000213   \n",
       "2  0.085543  0.031572  1.22010  0.085504  0.031417  1.17320  0.000365   \n",
       "3  0.084739  0.031418  0.83699  0.084709  0.031402  0.74660  0.000482   \n",
       "4  0.084089  0.031869  0.80974  0.084043  0.031711  0.77515  0.000197   \n",
       "\n",
       "       7         8         9     ...      2996      2997      2998      2999  \\\n",
       "0  0.000289  0.000066  0.000180  ...  0.000098  0.000635  0.000670  0.000708   \n",
       "1  0.000140  0.000074  0.000225  ...  0.000481  0.000115  0.000222  0.000888   \n",
       "2  0.000363  0.000388  0.000341  ...  0.000448  0.000728  0.000630  0.000315   \n",
       "3  0.000408  0.000412  0.000448  ...  0.001066  0.000705  0.000831  0.000390   \n",
       "4  0.000127  0.000076  0.000190  ...  0.000452  0.000573  0.000320  0.000086   \n",
       "\n",
       "       3000      3001      3002      3003      3004      3005  \n",
       "0  0.000977  0.000319  0.000385  0.001202  0.000440  0.001291  \n",
       "1  0.000202  0.000400  0.000648  0.000642  0.000618  0.000521  \n",
       "2  0.001347  0.001486  0.001280  0.000730  0.000391  0.001288  \n",
       "3  0.001110  0.000650  0.000417  0.000253  0.000715  0.000591  \n",
       "4  0.001230  0.001394  0.000757  0.000659  0.000400  0.000452  \n",
       "\n",
       "[5 rows x 3006 columns]"
      ]
     },
     "execution_count": 21,
     "metadata": {},
     "output_type": "execute_result"
    }
   ],
   "source": [
    "Xt2.head()"
   ]
  },
  {
   "cell_type": "code",
   "execution_count": 22,
   "metadata": {},
   "outputs": [
    {
     "data": {
      "text/plain": [
       "(180, 3006)"
      ]
     },
     "execution_count": 22,
     "metadata": {},
     "output_type": "execute_result"
    }
   ],
   "source": [
    "Xt2.shape"
   ]
  },
  {
   "cell_type": "code",
   "execution_count": 23,
   "metadata": {},
   "outputs": [
    {
     "name": "stdout",
     "output_type": "stream",
     "text": [
      "<class 'pandas.core.frame.DataFrame'>\n",
      "RangeIndex: 180 entries, 0 to 179\n",
      "Columns: 3006 entries, 0 to 3005\n",
      "dtypes: float64(3006)\n",
      "memory usage: 4.1 MB\n"
     ]
    }
   ],
   "source": [
    "Xt2.info()"
   ]
  },
  {
   "cell_type": "code",
   "execution_count": 24,
   "metadata": {},
   "outputs": [
    {
     "data": {
      "text/plain": [
       "0"
      ]
     },
     "execution_count": 24,
     "metadata": {},
     "output_type": "execute_result"
    }
   ],
   "source": [
    "(Xt2<0).sum().sum()"
   ]
  },
  {
   "cell_type": "code",
   "execution_count": 25,
   "metadata": {},
   "outputs": [
    {
     "data": {
      "text/plain": [
       "0"
      ]
     },
     "execution_count": 25,
     "metadata": {},
     "output_type": "execute_result"
    }
   ],
   "source": [
    "Xt2.isnull().sum().sum()"
   ]
  },
  {
   "cell_type": "markdown",
   "metadata": {},
   "source": [
    "Performing PCA for Dimensionality Reduction"
   ]
  },
  {
   "cell_type": "code",
   "execution_count": 26,
   "metadata": {
    "collapsed": true
   },
   "outputs": [],
   "source": [
    "XPCA = PCA(n_components=10)\n",
    "PCA_X = XPCA.fit_transform(X)"
   ]
  },
  {
   "cell_type": "code",
   "execution_count": 27,
   "metadata": {
    "collapsed": true
   },
   "outputs": [],
   "source": [
    "X_PCA = pd.DataFrame(data = PCA_X, columns = ['P1', 'P2', 'P3', 'P4', 'P5', 'P6', 'P7', 'P8', 'P9', 'P10'])"
   ]
  },
  {
   "cell_type": "code",
   "execution_count": 28,
   "metadata": {},
   "outputs": [
    {
     "data": {
      "text/html": [
       "<div>\n",
       "<style scoped>\n",
       "    .dataframe tbody tr th:only-of-type {\n",
       "        vertical-align: middle;\n",
       "    }\n",
       "\n",
       "    .dataframe tbody tr th {\n",
       "        vertical-align: top;\n",
       "    }\n",
       "\n",
       "    .dataframe thead th {\n",
       "        text-align: right;\n",
       "    }\n",
       "</style>\n",
       "<table border=\"1\" class=\"dataframe\">\n",
       "  <thead>\n",
       "    <tr style=\"text-align: right;\">\n",
       "      <th></th>\n",
       "      <th>P1</th>\n",
       "      <th>P2</th>\n",
       "      <th>P3</th>\n",
       "      <th>P4</th>\n",
       "      <th>P5</th>\n",
       "      <th>P6</th>\n",
       "      <th>P7</th>\n",
       "      <th>P8</th>\n",
       "      <th>P9</th>\n",
       "      <th>P10</th>\n",
       "    </tr>\n",
       "  </thead>\n",
       "  <tbody>\n",
       "    <tr>\n",
       "      <th>0</th>\n",
       "      <td>-0.328637</td>\n",
       "      <td>-0.026774</td>\n",
       "      <td>0.006883</td>\n",
       "      <td>-0.094637</td>\n",
       "      <td>0.038285</td>\n",
       "      <td>0.100466</td>\n",
       "      <td>0.018227</td>\n",
       "      <td>-0.024077</td>\n",
       "      <td>0.009175</td>\n",
       "      <td>-0.020918</td>\n",
       "    </tr>\n",
       "    <tr>\n",
       "      <th>1</th>\n",
       "      <td>0.017000</td>\n",
       "      <td>-0.083204</td>\n",
       "      <td>-0.020697</td>\n",
       "      <td>0.053838</td>\n",
       "      <td>-0.066675</td>\n",
       "      <td>0.035133</td>\n",
       "      <td>-0.051917</td>\n",
       "      <td>0.065175</td>\n",
       "      <td>-0.018537</td>\n",
       "      <td>-0.025032</td>\n",
       "    </tr>\n",
       "    <tr>\n",
       "      <th>2</th>\n",
       "      <td>0.641821</td>\n",
       "      <td>-0.112697</td>\n",
       "      <td>0.094780</td>\n",
       "      <td>-0.080575</td>\n",
       "      <td>-0.041728</td>\n",
       "      <td>0.073848</td>\n",
       "      <td>0.036155</td>\n",
       "      <td>0.003119</td>\n",
       "      <td>0.029049</td>\n",
       "      <td>-0.058206</td>\n",
       "    </tr>\n",
       "    <tr>\n",
       "      <th>3</th>\n",
       "      <td>-0.127890</td>\n",
       "      <td>-0.131275</td>\n",
       "      <td>0.058416</td>\n",
       "      <td>-0.089836</td>\n",
       "      <td>-0.109937</td>\n",
       "      <td>0.026575</td>\n",
       "      <td>-0.000901</td>\n",
       "      <td>-0.036683</td>\n",
       "      <td>-0.034974</td>\n",
       "      <td>-0.014201</td>\n",
       "    </tr>\n",
       "    <tr>\n",
       "      <th>4</th>\n",
       "      <td>0.536252</td>\n",
       "      <td>-0.070644</td>\n",
       "      <td>0.057336</td>\n",
       "      <td>-0.012011</td>\n",
       "      <td>-0.062206</td>\n",
       "      <td>0.065727</td>\n",
       "      <td>0.064744</td>\n",
       "      <td>-0.016464</td>\n",
       "      <td>0.060274</td>\n",
       "      <td>0.012470</td>\n",
       "    </tr>\n",
       "  </tbody>\n",
       "</table>\n",
       "</div>"
      ],
      "text/plain": [
       "         P1        P2        P3        P4        P5        P6        P7  \\\n",
       "0 -0.328637 -0.026774  0.006883 -0.094637  0.038285  0.100466  0.018227   \n",
       "1  0.017000 -0.083204 -0.020697  0.053838 -0.066675  0.035133 -0.051917   \n",
       "2  0.641821 -0.112697  0.094780 -0.080575 -0.041728  0.073848  0.036155   \n",
       "3 -0.127890 -0.131275  0.058416 -0.089836 -0.109937  0.026575 -0.000901   \n",
       "4  0.536252 -0.070644  0.057336 -0.012011 -0.062206  0.065727  0.064744   \n",
       "\n",
       "         P8        P9       P10  \n",
       "0 -0.024077  0.009175 -0.020918  \n",
       "1  0.065175 -0.018537 -0.025032  \n",
       "2  0.003119  0.029049 -0.058206  \n",
       "3 -0.036683 -0.034974 -0.014201  \n",
       "4 -0.016464  0.060274  0.012470  "
      ]
     },
     "execution_count": 28,
     "metadata": {},
     "output_type": "execute_result"
    }
   ],
   "source": [
    "X_PCA.head()"
   ]
  },
  {
   "cell_type": "code",
   "execution_count": 29,
   "metadata": {},
   "outputs": [
    {
     "name": "stdout",
     "output_type": "stream",
     "text": [
      "Explained variation per principal component: [ 0.71373331  0.10901822  0.03166554  0.02703449  0.02168163  0.01678668\n",
      "  0.01052781  0.00662     0.00646866  0.00449868]\n"
     ]
    }
   ],
   "source": [
    "print('Explained variation per principal component: {}'.format(XPCA.explained_variance_ratio_)) "
   ]
  },
  {
   "cell_type": "code",
   "execution_count": 30,
   "metadata": {},
   "outputs": [
    {
     "name": "stdout",
     "output_type": "stream",
     "text": [
      "The sum of the Explained variation of the principal components: 0.9480350140580801\n"
     ]
    }
   ],
   "source": [
    "print('The sum of the Explained variation of the principal components: {}'.format(sum(XPCA.explained_variance_ratio_))) "
   ]
  },
  {
   "cell_type": "markdown",
   "metadata": {},
   "source": [
    "Implementing the Multinomial Logistic Regression Model"
   ]
  },
  {
   "cell_type": "code",
   "execution_count": 31,
   "metadata": {
    "collapsed": true
   },
   "outputs": [],
   "source": [
    "#Splitting the dataset X into training and test datasets\n",
    "\n",
    "X_train, X_test, y_train, y_test = train_test_split(X_PCA, y, test_size=0.3, random_state=101)"
   ]
  },
  {
   "cell_type": "code",
   "execution_count": 32,
   "metadata": {},
   "outputs": [
    {
     "name": "stderr",
     "output_type": "stream",
     "text": [
      "C:\\Users\\Lenovo\\Anaconda3\\lib\\site-packages\\sklearn\\utils\\validation.py:578: DataConversionWarning: A column-vector y was passed when a 1d array was expected. Please change the shape of y to (n_samples, ), for example using ravel().\n",
      "  y = column_or_1d(y, warn=True)\n"
     ]
    },
    {
     "data": {
      "text/plain": [
       "LogisticRegression(C=1.0, class_weight=None, dual=False, fit_intercept=True,\n",
       "          intercept_scaling=1, max_iter=100, multi_class='ovr', n_jobs=1,\n",
       "          penalty='l2', random_state=None, solver='liblinear', tol=0.0001,\n",
       "          verbose=0, warm_start=False)"
      ]
     },
     "execution_count": 32,
     "metadata": {},
     "output_type": "execute_result"
    }
   ],
   "source": [
    "#Using the scikit learn logistic regression classifier to build the multi-classification classifier.\n",
    "\n",
    "lr = linear_model.LogisticRegression()\n",
    "lr.fit(X_train, y_train)"
   ]
  },
  {
   "cell_type": "code",
   "execution_count": 33,
   "metadata": {},
   "outputs": [
    {
     "data": {
      "text/plain": [
       "array([-0.73924662, -1.43627244, -1.52805002, -1.37527118])"
      ]
     },
     "execution_count": 33,
     "metadata": {},
     "output_type": "execute_result"
    }
   ],
   "source": [
    "#Printing the intercepts\n",
    "\n",
    "lr.intercept_"
   ]
  },
  {
   "cell_type": "code",
   "execution_count": 34,
   "metadata": {},
   "outputs": [
    {
     "data": {
      "text/plain": [
       "array([[-0.36155808, -2.4260867 ,  1.61388629, -0.1124442 , -3.92224851,\n",
       "         9.84664438, -0.64447145,  0.35792359, -0.07573052, -0.09825311],\n",
       "       [ 0.69845546,  1.8739704 , -5.13180369, -2.35058216, -0.34371038,\n",
       "        -2.58916901,  0.44224509,  0.09424244,  0.39806578,  0.22476773],\n",
       "       [-0.85835146, -3.14857144,  7.47319769,  3.58398345,  4.28449843,\n",
       "        -3.93438817,  0.0379942 , -0.27161816,  0.05026012,  0.138091  ],\n",
       "       [ 0.59162872,  3.50745647, -4.59798784, -1.45712779, -0.6369877 ,\n",
       "        -3.26765124, -0.03299288, -0.3031831 , -0.31900295, -0.27258122]])"
      ]
     },
     "execution_count": 34,
     "metadata": {},
     "output_type": "execute_result"
    }
   ],
   "source": [
    "#Printing the coefficients\n",
    "\n",
    "lr.coef_"
   ]
  },
  {
   "cell_type": "code",
   "execution_count": 35,
   "metadata": {
    "collapsed": true
   },
   "outputs": [],
   "source": [
    "#Attaining the predictions on X_test\n",
    "\n",
    "predictions = lr.predict(X_test)"
   ]
  },
  {
   "cell_type": "code",
   "execution_count": 36,
   "metadata": {},
   "outputs": [
    {
     "data": {
      "text/plain": [
       "array([4, 3, 1, 4, 1, 4, 4, 2, 3, 4, 1, 1, 4, 2, 1, 1, 2, 1, 1, 3, 3, 4, 1,\n",
       "       2, 1, 2, 1, 1, 1, 1, 4, 3, 1, 1, 1, 4, 1, 3, 1, 1, 1, 3, 4, 4, 3, 1,\n",
       "       1, 1, 4, 2, 3, 1, 4, 3, 3, 4, 2, 4, 4, 3, 2, 1, 4, 3, 4, 1, 1, 1, 3,\n",
       "       3, 4, 3, 4, 4, 4, 4, 3, 1, 1, 1, 2, 2, 1, 4, 1, 3, 3, 2, 1, 4, 4, 3,\n",
       "       1, 1, 1, 2, 1, 1, 1, 3, 4, 3, 3, 1, 1, 1, 4, 1, 1, 3, 3, 1, 2, 3, 4,\n",
       "       4, 3, 4, 1, 4, 1, 1, 1, 4, 4, 1, 3, 1, 1, 1, 4, 1, 4, 2, 2, 2, 1, 4,\n",
       "       1, 3, 1, 1, 1, 1, 1, 1, 1, 4, 1, 4, 1, 1, 3, 3, 1, 1, 1, 1, 1, 4, 4,\n",
       "       4, 4, 3, 1, 2, 1, 1, 3, 4, 4, 4, 4, 1, 4, 1, 1, 1, 1, 2, 3, 4, 4, 3,\n",
       "       1, 1, 1, 4, 3, 4, 4, 1, 1, 4, 1, 4, 1, 3, 1, 1, 4, 1, 1, 1, 3, 1, 3,\n",
       "       1, 4, 1, 3, 1, 1, 3, 2, 4, 3, 1, 4, 2, 1, 3, 1, 1, 1, 3, 1, 3, 4, 4,\n",
       "       4, 4, 2, 3, 1, 4, 1, 4, 1, 1, 1, 1, 1, 3, 4, 4, 3, 4, 1, 3, 4, 1], dtype=int64)"
      ]
     },
     "execution_count": 36,
     "metadata": {},
     "output_type": "execute_result"
    }
   ],
   "source": [
    "predictions"
   ]
  },
  {
   "cell_type": "code",
   "execution_count": 37,
   "metadata": {},
   "outputs": [
    {
     "name": "stdout",
     "output_type": "stream",
     "text": [
      "[[101   0   0   0]\n",
      " [  4  14   0  37]\n",
      " [  1   0  49   0]\n",
      " [  7   7   0  32]]\n"
     ]
    }
   ],
   "source": [
    "#Evaluating the Performance of the Classifer with a Confusion Matrix\n",
    "\n",
    "print(confusion_matrix(y_test,predictions))"
   ]
  },
  {
   "cell_type": "code",
   "execution_count": 38,
   "metadata": {},
   "outputs": [
    {
     "name": "stdout",
     "output_type": "stream",
     "text": [
      "             precision    recall  f1-score   support\n",
      "\n",
      "          1       0.89      1.00      0.94       101\n",
      "          2       0.67      0.25      0.37        55\n",
      "          3       1.00      0.98      0.99        50\n",
      "          4       0.46      0.70      0.56        46\n",
      "\n",
      "avg / total       0.79      0.78      0.76       252\n",
      "\n"
     ]
    }
   ],
   "source": [
    "#Evaluating the Performance of the Classifer with a Classification Report\n",
    "\n",
    "print(classification_report(y_test,predictions))"
   ]
  },
  {
   "cell_type": "code",
   "execution_count": 39,
   "metadata": {
    "collapsed": true
   },
   "outputs": [],
   "source": [
    "unique_elements, counts_elements = np.unique(predictions, return_counts=True)"
   ]
  },
  {
   "cell_type": "code",
   "execution_count": 40,
   "metadata": {},
   "outputs": [
    {
     "data": {
      "text/plain": [
       "array([[  1,   2,   3,   4],\n",
       "       [113,  21,  49,  69]], dtype=int64)"
      ]
     },
     "execution_count": 40,
     "metadata": {},
     "output_type": "execute_result"
    }
   ],
   "source": [
    "#Printing the Unique Elements and the Element count of the Predictions\n",
    "\n",
    "np.array((unique_elements, counts_elements))"
   ]
  },
  {
   "cell_type": "code",
   "execution_count": 41,
   "metadata": {
    "collapsed": true
   },
   "outputs": [],
   "source": [
    "#Retrieving the Probabilities of y_test\n",
    "\n",
    "probs = lr.predict_proba(X_test)"
   ]
  },
  {
   "cell_type": "code",
   "execution_count": 42,
   "metadata": {},
   "outputs": [
    {
     "data": {
      "text/plain": [
       "array([[ 0.28737299,  0.28288942,  0.12480311,  0.30493448],\n",
       "       [ 0.2286369 ,  0.0922157 ,  0.58378839,  0.09535901],\n",
       "       [ 0.59027928,  0.11701381,  0.20748174,  0.08522517],\n",
       "       ..., \n",
       "       [ 0.14530669,  0.12441039,  0.57747434,  0.15280859],\n",
       "       [ 0.17352514,  0.31479138,  0.08321744,  0.42846604],\n",
       "       [ 0.50978054,  0.22146796,  0.11376836,  0.15498314]])"
      ]
     },
     "execution_count": 42,
     "metadata": {},
     "output_type": "execute_result"
    }
   ],
   "source": [
    "probs"
   ]
  },
  {
   "cell_type": "code",
   "execution_count": 43,
   "metadata": {},
   "outputs": [
    {
     "data": {
      "text/plain": [
       "(252, 4)"
      ]
     },
     "execution_count": 43,
     "metadata": {},
     "output_type": "execute_result"
    }
   ],
   "source": [
    "probs.shape"
   ]
  },
  {
   "cell_type": "markdown",
   "metadata": {},
   "source": [
    "ROC Curve Plotting and AUC computing"
   ]
  },
  {
   "cell_type": "code",
   "execution_count": 44,
   "metadata": {
    "collapsed": true
   },
   "outputs": [],
   "source": [
    "#Label Binarizing y_test for ROC MultiCurve Plotting and AUC computing\n",
    "\n",
    "y_test = label_binarize(y_test, classes=[1,2,3,4])"
   ]
  },
  {
   "cell_type": "code",
   "execution_count": 45,
   "metadata": {
    "collapsed": true
   },
   "outputs": [],
   "source": [
    "n_classes = 4"
   ]
  },
  {
   "cell_type": "code",
   "execution_count": 46,
   "metadata": {
    "collapsed": true
   },
   "outputs": [],
   "source": [
    "#FPR, TPR & AUC Computation & Consolidation\n",
    "\n",
    "fpr = dict()\n",
    "tpr = dict()\n",
    "roc_auc = dict()\n",
    "for i in range(n_classes):\n",
    "    fpr[i], tpr[i], _ = roc_curve(y_test[:, i], probs[:, i])\n",
    "    roc_auc[i] = auc(fpr[i], tpr[i])"
   ]
  },
  {
   "cell_type": "code",
   "execution_count": 47,
   "metadata": {},
   "outputs": [
    {
     "data": {
      "image/png": "[encoded data removed]",
      "text/plain": [
       "<matplotlib.figure.Figure at 0x24079724128>"
      ]
     },
     "metadata": {},
     "output_type": "display_data"
    }
   ],
   "source": [
    "#Plotting ROC Curves and Printing AUC values for the 4 Classes\n",
    "\n",
    "plt.figure()\n",
    "colors = cycle(['aqua', 'darkorange', 'cornflowerblue','magenta'])\n",
    "\n",
    "for i, color in zip(range(n_classes), colors):\n",
    "    plt.plot(fpr[i], tpr[i], color=color, lw=2,\n",
    "             label='ROC curve of class {0} (area = {1:0.2f})'\n",
    "             ''.format(i+1, roc_auc[i]))\n",
    "\n",
    "plt.plot([0, 1], [0, 1], 'k--', lw=2)\n",
    "plt.xlim([0.0, 1.0])\n",
    "plt.ylim([0.0, 1.05])\n",
    "plt.xlabel('False Positive Rate')\n",
    "plt.ylabel('True Positive Rate')\n",
    "plt.title('ROC Curves & AUC Values of Classes')\n",
    "plt.legend(loc=\"lower right\")\n",
    "plt.show()"
   ]
  },
  {
   "cell_type": "markdown",
   "metadata": {},
   "source": [
    "Repeat PCA, Multinomial Logistic Regression Model & Prediction with X_matrix_test_1"
   ]
  },
  {
   "cell_type": "code",
   "execution_count": 48,
   "metadata": {
    "collapsed": true
   },
   "outputs": [],
   "source": [
    "Xt1PCA = PCA(n_components=10)\n",
    "PCA_Xt1 = Xt1PCA.fit_transform(Xt1)"
   ]
  },
  {
   "cell_type": "code",
   "execution_count": 49,
   "metadata": {
    "collapsed": true
   },
   "outputs": [],
   "source": [
    "Xt1_PCA = pd.DataFrame(data = PCA_Xt1, columns = ['P1', 'P2', 'P3', 'P4', 'P5','P6', 'P7', 'P8', 'P9', 'P10'])"
   ]
  },
  {
   "cell_type": "code",
   "execution_count": 50,
   "metadata": {},
   "outputs": [
    {
     "data": {
      "text/html": [
       "<div>\n",
       "<style scoped>\n",
       "    .dataframe tbody tr th:only-of-type {\n",
       "        vertical-align: middle;\n",
       "    }\n",
       "\n",
       "    .dataframe tbody tr th {\n",
       "        vertical-align: top;\n",
       "    }\n",
       "\n",
       "    .dataframe thead th {\n",
       "        text-align: right;\n",
       "    }\n",
       "</style>\n",
       "<table border=\"1\" class=\"dataframe\">\n",
       "  <thead>\n",
       "    <tr style=\"text-align: right;\">\n",
       "      <th></th>\n",
       "      <th>P1</th>\n",
       "      <th>P2</th>\n",
       "      <th>P3</th>\n",
       "      <th>P4</th>\n",
       "      <th>P5</th>\n",
       "      <th>P6</th>\n",
       "      <th>P7</th>\n",
       "      <th>P8</th>\n",
       "      <th>P9</th>\n",
       "      <th>P10</th>\n",
       "    </tr>\n",
       "  </thead>\n",
       "  <tbody>\n",
       "    <tr>\n",
       "      <th>0</th>\n",
       "      <td>-0.560957</td>\n",
       "      <td>0.077278</td>\n",
       "      <td>-0.007926</td>\n",
       "      <td>-0.099546</td>\n",
       "      <td>0.012764</td>\n",
       "      <td>-0.074609</td>\n",
       "      <td>-0.057827</td>\n",
       "      <td>-0.030158</td>\n",
       "      <td>0.035093</td>\n",
       "      <td>0.009684</td>\n",
       "    </tr>\n",
       "    <tr>\n",
       "      <th>1</th>\n",
       "      <td>-0.041421</td>\n",
       "      <td>0.158308</td>\n",
       "      <td>0.145967</td>\n",
       "      <td>-0.069599</td>\n",
       "      <td>-0.012833</td>\n",
       "      <td>-0.120710</td>\n",
       "      <td>0.031105</td>\n",
       "      <td>-0.057731</td>\n",
       "      <td>0.000439</td>\n",
       "      <td>0.008278</td>\n",
       "    </tr>\n",
       "    <tr>\n",
       "      <th>2</th>\n",
       "      <td>-0.104561</td>\n",
       "      <td>0.032463</td>\n",
       "      <td>0.047971</td>\n",
       "      <td>-0.068893</td>\n",
       "      <td>-0.053342</td>\n",
       "      <td>-0.110652</td>\n",
       "      <td>-0.075296</td>\n",
       "      <td>-0.022961</td>\n",
       "      <td>0.001174</td>\n",
       "      <td>-0.020107</td>\n",
       "    </tr>\n",
       "    <tr>\n",
       "      <th>3</th>\n",
       "      <td>-0.404731</td>\n",
       "      <td>0.082945</td>\n",
       "      <td>-0.100984</td>\n",
       "      <td>-0.033647</td>\n",
       "      <td>-0.044399</td>\n",
       "      <td>-0.115544</td>\n",
       "      <td>-0.036581</td>\n",
       "      <td>0.010080</td>\n",
       "      <td>-0.039960</td>\n",
       "      <td>-0.005641</td>\n",
       "    </tr>\n",
       "    <tr>\n",
       "      <th>4</th>\n",
       "      <td>-0.394151</td>\n",
       "      <td>0.009680</td>\n",
       "      <td>-0.086317</td>\n",
       "      <td>-0.028895</td>\n",
       "      <td>-0.057769</td>\n",
       "      <td>-0.041462</td>\n",
       "      <td>0.141257</td>\n",
       "      <td>-0.013084</td>\n",
       "      <td>-0.020267</td>\n",
       "      <td>-0.038236</td>\n",
       "    </tr>\n",
       "  </tbody>\n",
       "</table>\n",
       "</div>"
      ],
      "text/plain": [
       "         P1        P2        P3        P4        P5        P6        P7  \\\n",
       "0 -0.560957  0.077278 -0.007926 -0.099546  0.012764 -0.074609 -0.057827   \n",
       "1 -0.041421  0.158308  0.145967 -0.069599 -0.012833 -0.120710  0.031105   \n",
       "2 -0.104561  0.032463  0.047971 -0.068893 -0.053342 -0.110652 -0.075296   \n",
       "3 -0.404731  0.082945 -0.100984 -0.033647 -0.044399 -0.115544 -0.036581   \n",
       "4 -0.394151  0.009680 -0.086317 -0.028895 -0.057769 -0.041462  0.141257   \n",
       "\n",
       "         P8        P9       P10  \n",
       "0 -0.030158  0.035093  0.009684  \n",
       "1 -0.057731  0.000439  0.008278  \n",
       "2 -0.022961  0.001174 -0.020107  \n",
       "3  0.010080 -0.039960 -0.005641  \n",
       "4 -0.013084 -0.020267 -0.038236  "
      ]
     },
     "execution_count": 50,
     "metadata": {},
     "output_type": "execute_result"
    }
   ],
   "source": [
    "Xt1_PCA.head()"
   ]
  },
  {
   "cell_type": "code",
   "execution_count": 51,
   "metadata": {},
   "outputs": [
    {
     "name": "stdout",
     "output_type": "stream",
     "text": [
      "Explained variation per principal component: [ 0.68030505  0.11388448  0.04929537  0.04310626  0.02218814  0.01776901\n",
      "  0.01070605  0.00725976  0.00533582  0.0041221 ]\n"
     ]
    }
   ],
   "source": [
    "print('Explained variation per principal component: {}'.format(Xt1PCA.explained_variance_ratio_))"
   ]
  },
  {
   "cell_type": "code",
   "execution_count": 52,
   "metadata": {},
   "outputs": [
    {
     "name": "stdout",
     "output_type": "stream",
     "text": [
      "The sum of the Explained variation of the principal components: 0.9539720525642074\n"
     ]
    }
   ],
   "source": [
    "print('The sum of the Explained variation of the principal components: {}'.format(sum(Xt1PCA.explained_variance_ratio_))) "
   ]
  },
  {
   "cell_type": "code",
   "execution_count": 53,
   "metadata": {
    "collapsed": true
   },
   "outputs": [],
   "source": [
    "predictions1 = lr.predict(Xt1_PCA)"
   ]
  },
  {
   "cell_type": "code",
   "execution_count": 54,
   "metadata": {},
   "outputs": [
    {
     "data": {
      "text/plain": [
       "array([4, 3, 4, 4, 4, 4, 4, 1, 3, 1, 1, 3, 1, 1, 4, 1, 4, 3, 2, 4, 3, 4, 1,\n",
       "       1, 2, 1, 3, 1, 3, 2, 1, 2, 1, 4, 1, 1, 1, 2, 2, 4, 1, 1, 4, 1, 1, 4,\n",
       "       2, 4, 4, 1, 2, 3, 2, 1, 1, 1, 4, 3, 4, 4, 4, 4, 4, 1, 4, 1, 1, 1, 4,\n",
       "       4, 1, 1, 1, 1, 1, 1, 1, 4, 1, 1, 1, 1, 1, 4, 1, 1, 2, 1, 1, 4, 1, 1,\n",
       "       1, 4, 1, 1, 1, 4, 4, 4, 1, 1, 1, 2, 1, 1, 1, 2, 1, 4, 4, 3, 4, 3, 4,\n",
       "       1, 4, 3, 3, 1, 2, 1, 3, 1, 3, 3, 3, 3, 1, 3, 1, 3, 3, 1, 3, 1, 1, 3,\n",
       "       3, 3, 1, 1, 3, 3, 3, 3, 3, 3, 3, 3, 3, 3, 3, 3, 3, 3, 3, 3, 3, 3, 3,\n",
       "       3, 1, 3, 3, 3, 1, 1, 3, 1, 1, 3, 3, 1, 3, 1, 3, 3, 1, 1, 4, 1, 3, 3,\n",
       "       1, 2, 1, 4, 2, 1, 3, 4, 3, 3, 1, 1, 1, 1, 1, 1, 4, 1, 2, 1, 1, 1, 4,\n",
       "       1, 4, 1, 1, 1, 1, 1, 1, 1, 1, 4, 1, 1, 1, 4, 4, 4, 1, 4, 1, 1, 1, 1,\n",
       "       4, 4, 4, 1, 1, 1, 1, 1, 1, 1], dtype=int64)"
      ]
     },
     "execution_count": 54,
     "metadata": {},
     "output_type": "execute_result"
    }
   ],
   "source": [
    "predictions1"
   ]
  },
  {
   "cell_type": "code",
   "execution_count": 55,
   "metadata": {
    "collapsed": true
   },
   "outputs": [],
   "source": [
    "unique_elements, counts_elements = np.unique(predictions1, return_counts=True)"
   ]
  },
  {
   "cell_type": "code",
   "execution_count": 56,
   "metadata": {},
   "outputs": [
    {
     "data": {
      "text/plain": [
       "array([[  1,   2,   3,   4],\n",
       "       [114,  16,  59,  51]], dtype=int64)"
      ]
     },
     "execution_count": 56,
     "metadata": {},
     "output_type": "execute_result"
    }
   ],
   "source": [
    "np.array((unique_elements, counts_elements))"
   ]
  },
  {
   "cell_type": "markdown",
   "metadata": {},
   "source": [
    "Repeat PCA, Multinomial Logistic Regression Model & Prediction with X_matrix_test_2"
   ]
  },
  {
   "cell_type": "code",
   "execution_count": 57,
   "metadata": {
    "collapsed": true
   },
   "outputs": [],
   "source": [
    "Xt2PCA = PCA(n_components=10)\n",
    "PCA_Xt2 = Xt2PCA.fit_transform(Xt2)"
   ]
  },
  {
   "cell_type": "code",
   "execution_count": 58,
   "metadata": {
    "collapsed": true
   },
   "outputs": [],
   "source": [
    "Xt2_PCA = pd.DataFrame(data = PCA_Xt2, columns = ['P1', 'P2', 'P3', 'P4', 'P5','P6', 'P7', 'P8', 'P9', 'P10'])"
   ]
  },
  {
   "cell_type": "code",
   "execution_count": 59,
   "metadata": {},
   "outputs": [
    {
     "data": {
      "text/html": [
       "<div>\n",
       "<style scoped>\n",
       "    .dataframe tbody tr th:only-of-type {\n",
       "        vertical-align: middle;\n",
       "    }\n",
       "\n",
       "    .dataframe tbody tr th {\n",
       "        vertical-align: top;\n",
       "    }\n",
       "\n",
       "    .dataframe thead th {\n",
       "        text-align: right;\n",
       "    }\n",
       "</style>\n",
       "<table border=\"1\" class=\"dataframe\">\n",
       "  <thead>\n",
       "    <tr style=\"text-align: right;\">\n",
       "      <th></th>\n",
       "      <th>P1</th>\n",
       "      <th>P2</th>\n",
       "      <th>P3</th>\n",
       "      <th>P4</th>\n",
       "      <th>P5</th>\n",
       "      <th>P6</th>\n",
       "      <th>P7</th>\n",
       "      <th>P8</th>\n",
       "      <th>P9</th>\n",
       "      <th>P10</th>\n",
       "    </tr>\n",
       "  </thead>\n",
       "  <tbody>\n",
       "    <tr>\n",
       "      <th>0</th>\n",
       "      <td>0.848843</td>\n",
       "      <td>-0.155072</td>\n",
       "      <td>0.091146</td>\n",
       "      <td>-0.025192</td>\n",
       "      <td>0.100744</td>\n",
       "      <td>-0.077478</td>\n",
       "      <td>-0.006974</td>\n",
       "      <td>-0.000846</td>\n",
       "      <td>0.046288</td>\n",
       "      <td>-0.008105</td>\n",
       "    </tr>\n",
       "    <tr>\n",
       "      <th>1</th>\n",
       "      <td>0.127266</td>\n",
       "      <td>-0.149505</td>\n",
       "      <td>-0.002750</td>\n",
       "      <td>-0.034638</td>\n",
       "      <td>0.138321</td>\n",
       "      <td>-0.089134</td>\n",
       "      <td>0.001762</td>\n",
       "      <td>-0.041007</td>\n",
       "      <td>0.045520</td>\n",
       "      <td>-0.052194</td>\n",
       "    </tr>\n",
       "    <tr>\n",
       "      <th>2</th>\n",
       "      <td>1.122181</td>\n",
       "      <td>-0.119873</td>\n",
       "      <td>0.270043</td>\n",
       "      <td>0.256824</td>\n",
       "      <td>0.003317</td>\n",
       "      <td>-0.004040</td>\n",
       "      <td>-0.029121</td>\n",
       "      <td>0.018531</td>\n",
       "      <td>0.035257</td>\n",
       "      <td>0.019848</td>\n",
       "    </tr>\n",
       "    <tr>\n",
       "      <th>3</th>\n",
       "      <td>0.106326</td>\n",
       "      <td>0.147927</td>\n",
       "      <td>0.445149</td>\n",
       "      <td>0.176272</td>\n",
       "      <td>-0.040930</td>\n",
       "      <td>0.061339</td>\n",
       "      <td>-0.016660</td>\n",
       "      <td>-0.052030</td>\n",
       "      <td>0.051759</td>\n",
       "      <td>-0.056828</td>\n",
       "    </tr>\n",
       "    <tr>\n",
       "      <th>4</th>\n",
       "      <td>0.241807</td>\n",
       "      <td>0.006709</td>\n",
       "      <td>0.335074</td>\n",
       "      <td>-0.173769</td>\n",
       "      <td>0.134268</td>\n",
       "      <td>0.061122</td>\n",
       "      <td>0.039712</td>\n",
       "      <td>0.083406</td>\n",
       "      <td>-0.022997</td>\n",
       "      <td>0.012811</td>\n",
       "    </tr>\n",
       "  </tbody>\n",
       "</table>\n",
       "</div>"
      ],
      "text/plain": [
       "         P1        P2        P3        P4        P5        P6        P7  \\\n",
       "0  0.848843 -0.155072  0.091146 -0.025192  0.100744 -0.077478 -0.006974   \n",
       "1  0.127266 -0.149505 -0.002750 -0.034638  0.138321 -0.089134  0.001762   \n",
       "2  1.122181 -0.119873  0.270043  0.256824  0.003317 -0.004040 -0.029121   \n",
       "3  0.106326  0.147927  0.445149  0.176272 -0.040930  0.061339 -0.016660   \n",
       "4  0.241807  0.006709  0.335074 -0.173769  0.134268  0.061122  0.039712   \n",
       "\n",
       "         P8        P9       P10  \n",
       "0 -0.000846  0.046288 -0.008105  \n",
       "1 -0.041007  0.045520 -0.052194  \n",
       "2  0.018531  0.035257  0.019848  \n",
       "3 -0.052030  0.051759 -0.056828  \n",
       "4  0.083406 -0.022997  0.012811  "
      ]
     },
     "execution_count": 59,
     "metadata": {},
     "output_type": "execute_result"
    }
   ],
   "source": [
    "Xt2_PCA.head()"
   ]
  },
  {
   "cell_type": "code",
   "execution_count": 60,
   "metadata": {},
   "outputs": [
    {
     "name": "stdout",
     "output_type": "stream",
     "text": [
      "Explained variation per principal component: [ 0.6403244   0.15984819  0.08569553  0.03351109  0.01444255  0.01023997\n",
      "  0.00689386  0.00544637  0.00393423  0.0030278 ]\n"
     ]
    }
   ],
   "source": [
    "print('Explained variation per principal component: {}'.format(Xt2PCA.explained_variance_ratio_))"
   ]
  },
  {
   "cell_type": "code",
   "execution_count": 61,
   "metadata": {},
   "outputs": [
    {
     "name": "stdout",
     "output_type": "stream",
     "text": [
      "The sum of the Explained variation of the principal components: 0.963363982399936\n"
     ]
    }
   ],
   "source": [
    "print('The sum of the Explained variation of the principal components: {}'.format(sum(Xt2PCA.explained_variance_ratio_))) "
   ]
  },
  {
   "cell_type": "code",
   "execution_count": 62,
   "metadata": {
    "collapsed": true
   },
   "outputs": [],
   "source": [
    "predictions2 = lr.predict(Xt2_PCA)"
   ]
  },
  {
   "cell_type": "code",
   "execution_count": 63,
   "metadata": {},
   "outputs": [
    {
     "data": {
      "text/plain": [
       "array([3, 3, 3, 3, 3, 3, 1, 3, 1, 3, 3, 3, 1, 2, 3, 4, 4, 3, 3, 2, 3, 4, 1,\n",
       "       3, 2, 3, 1, 3, 2, 1, 1, 1, 1, 2, 1, 1, 1, 1, 1, 1, 2, 1, 4, 1, 2, 4,\n",
       "       3, 1, 3, 1, 1, 4, 1, 4, 1, 1, 1, 4, 2, 2, 3, 4, 3, 1, 4, 1, 3, 2, 3,\n",
       "       1, 1, 4, 3, 4, 1, 4, 3, 3, 1, 4, 2, 1, 1, 1, 1, 1, 1, 2, 2, 2, 1, 1,\n",
       "       1, 1, 2, 1, 1, 3, 1, 4, 3, 3, 3, 3, 3, 1, 3, 1, 4, 2, 3, 3, 3, 3, 3,\n",
       "       4, 3, 4, 1, 1, 1, 1, 1, 4, 1, 1, 4, 3, 1, 1, 1, 1, 3, 3, 4, 2, 3, 3,\n",
       "       4, 1, 1, 3, 3, 1, 3, 3, 1, 1, 1, 1, 1, 1, 1, 1, 1, 1, 1, 1, 1, 1, 1,\n",
       "       1, 1, 1, 1, 1, 4, 1, 4, 3, 1, 1, 1, 2, 1, 1, 1, 4, 1, 1], dtype=int64)"
      ]
     },
     "execution_count": 63,
     "metadata": {},
     "output_type": "execute_result"
    }
   ],
   "source": [
    "predictions2"
   ]
  },
  {
   "cell_type": "code",
   "execution_count": 64,
   "metadata": {
    "collapsed": true
   },
   "outputs": [],
   "source": [
    "unique_elements, counts_elements = np.unique(predictions2, return_counts=True)"
   ]
  },
  {
   "cell_type": "code",
   "execution_count": 65,
   "metadata": {},
   "outputs": [
    {
     "data": {
      "text/plain": [
       "array([[ 1,  2,  3,  4],\n",
       "       [88, 18, 49, 25]], dtype=int64)"
      ]
     },
     "execution_count": 65,
     "metadata": {},
     "output_type": "execute_result"
    }
   ],
   "source": [
    "np.array((unique_elements, counts_elements))"
   ]
  },
  {
   "cell_type": "markdown",
   "metadata": {},
   "source": [
    "Tabulating, Plotting the Predictions for X_matrix_test_1 using Index as the Time Variable and Saving files"
   ]
  },
  {
   "cell_type": "code",
   "execution_count": 66,
   "metadata": {},
   "outputs": [
    {
     "name": "stdout",
     "output_type": "stream",
     "text": [
      "   Predictions_1\n",
      "0              4\n",
      "1              3\n",
      "2              4\n",
      "3              4\n",
      "4              4\n"
     ]
    }
   ],
   "source": [
    "Pred1 = pd.DataFrame(np.array([predictions1]).T)\n",
    "Pred1.columns =['Predictions_1']\n",
    "print(Pred1.head())\n",
    "#Pred1.to_csv(\"Pred1.csv\")"
   ]
  },
  {
   "cell_type": "code",
   "execution_count": 67,
   "metadata": {
    "collapsed": true
   },
   "outputs": [],
   "source": [
    "Pred1.reset_index(level=0, inplace=True)"
   ]
  },
  {
   "cell_type": "code",
   "execution_count": 68,
   "metadata": {},
   "outputs": [
    {
     "name": "stdout",
     "output_type": "stream",
     "text": [
      "AxesSubplot(0.125,0.125;0.775x0.755)\n"
     ]
    },
    {
     "data": {
      "image/png": "[encoded data removed]",
      "text/plain": [
       "<matplotlib.figure.Figure at 0x2407972d400>"
      ]
     },
     "metadata": {},
     "output_type": "display_data"
    }
   ],
   "source": [
    "Pred1_Plot = sns.scatterplot(x=\"index\", y=\"Predictions_1\", data=Pred1)\n",
    "print(Pred1_Plot)\n",
    "#figure = Pred1_Plot.get_figure()    \n",
    "#figure.savefig('Pred1_Plot.jpeg', dpi=400)"
   ]
  },
  {
   "cell_type": "markdown",
   "metadata": {},
   "source": [
    "Tabulating, Plotting the Predictions for X_matrix_test_2 using Index as the Time Variable and Saving files"
   ]
  },
  {
   "cell_type": "code",
   "execution_count": 69,
   "metadata": {},
   "outputs": [
    {
     "name": "stdout",
     "output_type": "stream",
     "text": [
      "   Predictions_2\n",
      "0              3\n",
      "1              3\n",
      "2              3\n",
      "3              3\n",
      "4              3\n"
     ]
    }
   ],
   "source": [
    "Pred2 = pd.DataFrame(np.array([predictions2]).T)\n",
    "Pred2.columns =['Predictions_2']\n",
    "print(Pred2.head())\n",
    "#Pred2.to_csv(\"Pred2.csv\")"
   ]
  },
  {
   "cell_type": "code",
   "execution_count": 70,
   "metadata": {
    "collapsed": true
   },
   "outputs": [],
   "source": [
    "Pred2.reset_index(level=0, inplace=True)"
   ]
  },
  {
   "cell_type": "code",
   "execution_count": 71,
   "metadata": {},
   "outputs": [
    {
     "name": "stdout",
     "output_type": "stream",
     "text": [
      "AxesSubplot(0.125,0.125;0.775x0.755)\n"
     ]
    },
    {
     "data": {
      "image/png": "[encoded data removed]",
      "text/plain": [
       "<matplotlib.figure.Figure at 0x240798797b8>"
      ]
     },
     "metadata": {},
     "output_type": "display_data"
    }
   ],
   "source": [
    "Pred2_Plot = sns.scatterplot(x=\"index\", y=\"Predictions_2\", data=Pred2)\n",
    "print(Pred2_Plot)\n",
    "#figure = Pred2_Plot.get_figure()    \n",
    "#figure.savefig('Pred2_Plot.jpeg', dpi=400)"
   ]
  }
 ],
 "metadata": {
  "kernelspec": {
   "display_name": "Python 3",
   "language": "python",
   "name": "python3"
  },
  "language_info": {
   "codemirror_mode": {
    "name": "ipython",
    "version": 3
   },
   "file_extension": ".py",
   "mimetype": "text/x-python",
   "name": "python",
   "nbconvert_exporter": "python",
   "pygments_lexer": "ipython3",
   "version": "3.6.3"
  }
 },
 "nbformat": 4,
 "nbformat_minor": 2
}
